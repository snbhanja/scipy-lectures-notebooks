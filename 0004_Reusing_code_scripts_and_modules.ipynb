{
 "cells": [
  {
   "cell_type": "code",
   "execution_count": 3,
   "metadata": {},
   "outputs": [
    {
     "name": "stdout",
     "output_type": "stream",
     "text": [
      "Hello\n",
      "how\n",
      "are\n",
      "you?\n"
     ]
    }
   ],
   "source": [
    "import test"
   ]
  },
  {
   "cell_type": "code",
   "execution_count": 5,
   "metadata": {},
   "outputs": [
    {
     "data": {
      "text/plain": [
       "'Hello how are you?'"
      ]
     },
     "execution_count": 5,
     "metadata": {},
     "output_type": "execute_result"
    }
   ],
   "source": [
    "test.message"
   ]
  },
  {
   "cell_type": "markdown",
   "metadata": {},
   "source": [
    "**Dont implement option parsing yourself. Use models such as optparse, argparse or docopt**"
   ]
  },
  {
   "cell_type": "markdown",
   "metadata": {},
   "source": [
    "## Importing objects from modules"
   ]
  },
  {
   "cell_type": "code",
   "execution_count": 6,
   "metadata": {
    "collapsed": true
   },
   "outputs": [],
   "source": [
    "import os"
   ]
  },
  {
   "cell_type": "code",
   "execution_count": 7,
   "metadata": {},
   "outputs": [
    {
     "data": {
      "text/plain": [
       "<module 'os' from '/home/satya/anaconda3/envs/py36/lib/python3.6/os.py'>"
      ]
     },
     "execution_count": 7,
     "metadata": {},
     "output_type": "execute_result"
    }
   ],
   "source": [
    "os"
   ]
  },
  {
   "cell_type": "code",
   "execution_count": 9,
   "metadata": {},
   "outputs": [
    {
     "data": {
      "text/plain": [
       "['deque_and_threading.ipynb',\n",
       " '.ipynb_checkpoints',\n",
       " '0002_control_flow.ipynb',\n",
       " '0001_Intro.ipynb',\n",
       " 'hello.py',\n",
       " '__pycache__',\n",
       " '0003_Functions.ipynb',\n",
       " 'test.py',\n",
       " 'my_file.py',\n",
       " 'Untitled.ipynb',\n",
       " '.my_file.py.swp',\n",
       " '0004_Reusing_code_scripts_and_modules.ipynb',\n",
       " 'Untitled1.ipynb']"
      ]
     },
     "execution_count": 9,
     "metadata": {},
     "output_type": "execute_result"
    }
   ],
   "source": [
    "# Show files in current directory\n",
    "os.listdir('.')"
   ]
  },
  {
   "cell_type": "code",
   "execution_count": 13,
   "metadata": {
    "collapsed": true
   },
   "outputs": [],
   "source": [
    "from os import listdir"
   ]
  },
  {
   "cell_type": "code",
   "execution_count": 14,
   "metadata": {},
   "outputs": [],
   "source": [
    "files = os.listdir()"
   ]
  },
  {
   "cell_type": "code",
   "execution_count": 16,
   "metadata": {},
   "outputs": [
    {
     "name": "stdout",
     "output_type": "stream",
     "text": [
      "deque_and_threading.ipynb\n",
      ".ipynb_checkpoints\n",
      "0002_control_flow.ipynb\n",
      "0001_Intro.ipynb\n",
      "hello.py\n",
      "__pycache__\n",
      "0003_Functions.ipynb\n",
      "test.py\n",
      "my_file.py\n",
      "Untitled.ipynb\n",
      ".my_file.py.swp\n",
      "0004_Reusing_code_scripts_and_modules.ipynb\n",
      "Untitled1.ipynb\n"
     ]
    }
   ],
   "source": [
    "for file in files:\n",
    "   print (file)"
   ]
  },
  {
   "cell_type": "markdown",
   "metadata": {},
   "source": [
    "----"
   ]
  },
  {
   "cell_type": "code",
   "execution_count": 17,
   "metadata": {},
   "outputs": [
    {
     "data": {
      "text/plain": [
       "array([  0.,   2.,   4.,   6.,   8.,  10.])"
      ]
     },
     "execution_count": 17,
     "metadata": {},
     "output_type": "execute_result"
    }
   ],
   "source": [
    "import numpy as np\n",
    "np.linspace(0, 10, 6)"
   ]
  },
  {
   "cell_type": "code",
   "execution_count": 18,
   "metadata": {
    "collapsed": true
   },
   "outputs": [],
   "source": [
    "import scipy"
   ]
  },
  {
   "cell_type": "markdown",
   "metadata": {},
   "source": [
    "## Creating modules"
   ]
  },
  {
   "cell_type": "markdown",
   "metadata": {},
   "source": [
    " If we want to write larger and better organized programs (compared to simple scripts), where some objects are defined, (variables, functions, classes) and that we want to reuse several times, we have to create our own modules."
   ]
  },
  {
   "cell_type": "markdown",
   "metadata": {},
   "source": [
    "**Let us create a module demo contained in the file demo.py:**"
   ]
  },
  {
   "cell_type": "code",
   "execution_count": 19,
   "metadata": {
    "collapsed": true
   },
   "outputs": [],
   "source": [
    "#\"A demo module.\"\n",
    "\n",
    "#def print_b():\n",
    "#    \"Prints b.\"\n",
    "#    print 'b'\n",
    "\n",
    "#def print_a():\n",
    "#    \"Prints a.\"\n",
    "#    print 'a'\n",
    "\n",
    "#c = 2\n",
    "#d = 2"
   ]
  },
  {
   "cell_type": "code",
   "execution_count": 21,
   "metadata": {},
   "outputs": [],
   "source": [
    "import demo"
   ]
  },
  {
   "cell_type": "code",
   "execution_count": 22,
   "metadata": {},
   "outputs": [
    {
     "data": {
      "text/plain": [
       "<function demo.print_a>"
      ]
     },
     "execution_count": 22,
     "metadata": {},
     "output_type": "execute_result"
    }
   ],
   "source": [
    "demo.print_a"
   ]
  },
  {
   "cell_type": "code",
   "execution_count": 23,
   "metadata": {},
   "outputs": [
    {
     "name": "stdout",
     "output_type": "stream",
     "text": [
      "a\n"
     ]
    }
   ],
   "source": [
    "demo.print_a()"
   ]
  },
  {
   "cell_type": "code",
   "execution_count": 24,
   "metadata": {},
   "outputs": [
    {
     "name": "stdout",
     "output_type": "stream",
     "text": [
      "b\n"
     ]
    }
   ],
   "source": [
    "demo.print_b()"
   ]
  },
  {
   "cell_type": "code",
   "execution_count": 25,
   "metadata": {},
   "outputs": [
    {
     "data": {
      "text/plain": [
       "2"
      ]
     },
     "execution_count": 25,
     "metadata": {},
     "output_type": "execute_result"
    }
   ],
   "source": [
    "demo.c"
   ]
  },
  {
   "cell_type": "code",
   "execution_count": 26,
   "metadata": {
    "collapsed": true
   },
   "outputs": [],
   "source": [
    "demo?"
   ]
  },
  {
   "cell_type": "code",
   "execution_count": 27,
   "metadata": {},
   "outputs": [
    {
     "name": "stdout",
     "output_type": "stream",
     "text": [
      "demo\t file\t files\t listdir\t np\t os\t scipy\t test\t \n"
     ]
    }
   ],
   "source": [
    "who"
   ]
  },
  {
   "cell_type": "code",
   "execution_count": 28,
   "metadata": {},
   "outputs": [
    {
     "name": "stdout",
     "output_type": "stream",
     "text": [
      "Variable   Type                          Data/Info\n",
      "--------------------------------------------------\n",
      "demo       module                        <module 'demo' from '/med<...> python lecture/demo.py'>\n",
      "file       str                           Untitled1.ipynb\n",
      "files      list                          n=13\n",
      "listdir    builtin_function_or_method    <built-in function listdir>\n",
      "np         module                        <module 'numpy' from '/ho<...>kages/numpy/__init__.py'>\n",
      "os         module                        <module 'os' from '/home/<...>y36/lib/python3.6/os.py'>\n",
      "scipy      module                        <module 'scipy' from '/ho<...>kages/scipy/__init__.py'>\n",
      "test       module                        <module 'test' from '/med<...> python lecture/test.py'>\n"
     ]
    }
   ],
   "source": [
    "whos"
   ]
  },
  {
   "cell_type": "markdown",
   "metadata": {},
   "source": [
    "**Importing objects from modules into the main namespace**"
   ]
  },
  {
   "cell_type": "code",
   "execution_count": 31,
   "metadata": {
    "collapsed": true
   },
   "outputs": [],
   "source": [
    "from demo import print_a, print_b"
   ]
  },
  {
   "cell_type": "code",
   "execution_count": 32,
   "metadata": {},
   "outputs": [
    {
     "name": "stdout",
     "output_type": "stream",
     "text": [
      "Variable   Type                          Data/Info\n",
      "--------------------------------------------------\n",
      "demo       module                        <module 'demo' from '/med<...> python lecture/demo.py'>\n",
      "file       str                           Untitled1.ipynb\n",
      "files      list                          n=13\n",
      "listdir    builtin_function_or_method    <built-in function listdir>\n",
      "np         module                        <module 'numpy' from '/ho<...>kages/numpy/__init__.py'>\n",
      "os         module                        <module 'os' from '/home/<...>y36/lib/python3.6/os.py'>\n",
      "print_a    function                      <function print_a at 0x7ff734200d08>\n",
      "print_b    function                      <function print_b at 0x7ff734200e18>\n",
      "scipy      module                        <module 'scipy' from '/ho<...>kages/scipy/__init__.py'>\n",
      "test       module                        <module 'test' from '/med<...> python lecture/test.py'>\n"
     ]
    }
   ],
   "source": [
    "whos"
   ]
  },
  {
   "cell_type": "code",
   "execution_count": 33,
   "metadata": {},
   "outputs": [
    {
     "name": "stdout",
     "output_type": "stream",
     "text": [
      "a\n"
     ]
    }
   ],
   "source": [
    "print_a()"
   ]
  },
  {
   "cell_type": "markdown",
   "metadata": {},
   "source": [
    "WARNING: **Module caching**<br/>\n",
    "Modules are cached: if you modify demo.py and re-import it in the old session, you will get the old one.<br/>\n",
    "**Solution:**<br/>\n",
    "    reload(demo)<br/>\n",
    "**In Python3 instead reload is not builtin, so you have to import the importlib module first and then do:**<br/>\n",
    "    importlib.reload(demo)"
   ]
  },
  {
   "cell_type": "markdown",
   "metadata": {},
   "source": [
    "## $__main__$ and module loading"
   ]
  },
  {
   "cell_type": "markdown",
   "metadata": {},
   "source": [
    "Sometimes we want code to be executed when a module is run directly, but not when it is imported by another module. if $__name__$ == '$__main__$' allows us to check whether the module is being run directly."
   ]
  },
  {
   "cell_type": "code",
   "execution_count": 34,
   "metadata": {},
   "outputs": [
    {
     "data": {
      "text/plain": [
       "'\\ndef print_b():\\n    \"Prints b.\"\\n    print \\'b\\'\\n\\ndef print_a():\\n    \"Prints a.\"\\n    print \\'a\\'\\n\\n# print_b() runs on import\\nprint_b()\\n\\nif __name__ == \\'__main__\\':\\n    # print_a() is only executed when the module is run directly.\\n    print_a()\\n'"
      ]
     },
     "execution_count": 34,
     "metadata": {},
     "output_type": "execute_result"
    }
   ],
   "source": [
    "'''\n",
    "def print_b():\n",
    "    \"Prints b.\"\n",
    "    print 'b'\n",
    "\n",
    "def print_a():\n",
    "    \"Prints a.\"\n",
    "    print 'a'\n",
    "\n",
    "# print_b() runs on import\n",
    "print_b()\n",
    "\n",
    "if __name__ == '__main__':\n",
    "    # print_a() is only executed when the module is run directly.\n",
    "    print_a()\n",
    "'''"
   ]
  },
  {
   "cell_type": "code",
   "execution_count": 36,
   "metadata": {},
   "outputs": [
    {
     "name": "stdout",
     "output_type": "stream",
     "text": [
      "b\n"
     ]
    }
   ],
   "source": [
    "import demo2"
   ]
  },
  {
   "cell_type": "code",
   "execution_count": 37,
   "metadata": {},
   "outputs": [
    {
     "name": "stdout",
     "output_type": "stream",
     "text": [
      "b\n",
      "a\n"
     ]
    }
   ],
   "source": [
    "%run demo2"
   ]
  },
  {
   "cell_type": "markdown",
   "metadata": {},
   "source": [
    "## How modules are found and imported"
   ]
  },
  {
   "cell_type": "code",
   "execution_count": 38,
   "metadata": {},
   "outputs": [
    {
     "data": {
      "text/plain": [
       "['',\n",
       " '/home/satya/anaconda3/envs/py36/lib/python36.zip',\n",
       " '/home/satya/anaconda3/envs/py36/lib/python3.6',\n",
       " '/home/satya/anaconda3/envs/py36/lib/python3.6/lib-dynload',\n",
       " '/home/satya/anaconda3/envs/py36/lib/python3.6/site-packages',\n",
       " '/home/satya/anaconda3/envs/py36/lib/python3.6/site-packages/Sphinx-1.5.6-py3.6.egg',\n",
       " '/home/satya/anaconda3/envs/py36/lib/python3.6/site-packages/setuptools-27.2.0-py3.6.egg',\n",
       " '/home/satya/anaconda3/envs/py36/lib/python3.6/site-packages/IPython/extensions',\n",
       " '/home/satya/.ipython']"
      ]
     },
     "execution_count": 38,
     "metadata": {},
     "output_type": "execute_result"
    }
   ],
   "source": [
    "import sys\n",
    "sys.path"
   ]
  },
  {
   "cell_type": "markdown",
   "metadata": {},
   "source": [
    "# Packages:-"
   ]
  },
  {
   "cell_type": "markdown",
   "metadata": {},
   "source": [
    "A directory that contains many modules is called a package. A package is a module with submodules (which can have submodules themselves, etc.)."
   ]
  },
  {
   "cell_type": "code",
   "execution_count": 40,
   "metadata": {},
   "outputs": [
    {
     "name": "stdout",
     "output_type": "stream",
     "text": [
      "0001_Intro.ipynb                             hello.py\r\n",
      "0002_control_flow.ipynb                      my_file.py\r\n",
      "0003_Functions.ipynb                         \u001b[0m\u001b[01;34m__pycache__\u001b[0m/\r\n",
      "0004_Reusing_code_scripts_and_modules.ipynb  test.py\r\n",
      "demo2.py                                     Untitled1.ipynb\r\n",
      "demo.py                                      Untitled.ipynb\r\n",
      "deque_and_threading.ipynb\r\n"
     ]
    }
   ],
   "source": [
    "ls"
   ]
  },
  {
   "cell_type": "code",
   "execution_count": 41,
   "metadata": {
    "collapsed": true
   },
   "outputs": [],
   "source": [
    "import scipy"
   ]
  },
  {
   "cell_type": "code",
   "execution_count": 42,
   "metadata": {},
   "outputs": [
    {
     "data": {
      "text/plain": [
       "'/home/satya/anaconda3/envs/py36/lib/python3.6/site-packages/scipy/__init__.py'"
      ]
     },
     "execution_count": 42,
     "metadata": {},
     "output_type": "execute_result"
    }
   ],
   "source": [
    "scipy.__file__"
   ]
  },
  {
   "cell_type": "code",
   "execution_count": 43,
   "metadata": {
    "collapsed": true
   },
   "outputs": [],
   "source": [
    "import scipy.version"
   ]
  },
  {
   "cell_type": "code",
   "execution_count": 44,
   "metadata": {},
   "outputs": [
    {
     "data": {
      "text/plain": [
       "'0.19.0'"
      ]
     },
     "execution_count": 44,
     "metadata": {},
     "output_type": "execute_result"
    }
   ],
   "source": [
    "scipy.version.version"
   ]
  },
  {
   "cell_type": "code",
   "execution_count": 45,
   "metadata": {
    "collapsed": true
   },
   "outputs": [],
   "source": [
    "import scipy.ndimage.morphology"
   ]
  },
  {
   "cell_type": "code",
   "execution_count": 46,
   "metadata": {
    "collapsed": true
   },
   "outputs": [],
   "source": [
    "from scipy.ndimage import morphology"
   ]
  },
  {
   "cell_type": "code",
   "execution_count": 47,
   "metadata": {
    "collapsed": true
   },
   "outputs": [],
   "source": [
    "morphology.binary_dilation?"
   ]
  },
  {
   "cell_type": "markdown",
   "metadata": {},
   "source": [
    "**long lines break up example**"
   ]
  },
  {
   "cell_type": "code",
   "execution_count": 48,
   "metadata": {
    "collapsed": true
   },
   "outputs": [],
   "source": [
    "long_line = \"Here is a very very long line \\\n",
    "... that we break in two parts.\""
   ]
  },
  {
   "cell_type": "code",
   "execution_count": 50,
   "metadata": {},
   "outputs": [
    {
     "data": {
      "text/plain": [
       "'Here is a very very long line that we break in two parts.'"
      ]
     },
     "execution_count": 50,
     "metadata": {},
     "output_type": "execute_result"
    }
   ],
   "source": [
    "long_line"
   ]
  },
  {
   "cell_type": "markdown",
   "metadata": {},
   "source": [
    "http://www.scipy-lectures.org/intro/language/reusing_code.html"
   ]
  },
  {
   "cell_type": "code",
   "execution_count": null,
   "metadata": {
    "collapsed": true
   },
   "outputs": [],
   "source": []
  }
 ],
 "metadata": {
  "kernelspec": {
   "display_name": "Python 3",
   "language": "python",
   "name": "python3"
  },
  "language_info": {
   "codemirror_mode": {
    "name": "ipython",
    "version": 3
   },
   "file_extension": ".py",
   "mimetype": "text/x-python",
   "name": "python",
   "nbconvert_exporter": "python",
   "pygments_lexer": "ipython3",
   "version": "3.6.1"
  }
 },
 "nbformat": 4,
 "nbformat_minor": 2
}
